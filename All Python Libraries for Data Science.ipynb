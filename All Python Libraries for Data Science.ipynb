{
 "cells": [
  {
   "cell_type": "markdown",
   "id": "e9f25022",
   "metadata": {},
   "source": [
    "# Importing Libraries for Statistics"
   ]
  },
  {
   "cell_type": "code",
   "execution_count": 2,
   "id": "2459e5cf",
   "metadata": {
    "ExecuteTime": {
     "end_time": "2023-06-18T12:14:41.166832Z",
     "start_time": "2023-06-18T12:14:41.152338Z"
    }
   },
   "outputs": [],
   "source": [
    "from scipy import stats\n",
    "import pandas as pd\n",
    "import numpy as np\n",
    "import statistics\n"
   ]
  },
  {
   "cell_type": "markdown",
   "id": "10321f16",
   "metadata": {},
   "source": [
    "# Libraries for Hypothesis Testing"
   ]
  },
  {
   "cell_type": "code",
   "execution_count": null,
   "id": "af1c7079",
   "metadata": {
    "ExecuteTime": {
     "end_time": "2023-06-18T12:14:15.682591Z",
     "start_time": "2023-06-18T12:14:15.682591Z"
    }
   },
   "outputs": [],
   "source": [
    "!pip install plotly \n",
    "from plotly import figure_factory as FF \n",
    "from scipy.stats import norm \n",
    "from scipy.stats import chi2_contingency\n"
   ]
  },
  {
   "cell_type": "markdown",
   "id": "dd9587b5",
   "metadata": {},
   "source": [
    "# Simple, Multi, Logistic Regression Libraries"
   ]
  },
  {
   "cell_type": "code",
   "execution_count": null,
   "id": "7f2e2678",
   "metadata": {
    "ExecuteTime": {
     "end_time": "2023-06-18T12:14:15.682591Z",
     "start_time": "2023-06-18T12:14:15.682591Z"
    }
   },
   "outputs": [],
   "source": [
    "import pandas as pd \n",
    "import numpy as np\n",
    "import matplotlib.pyplot as plt\n",
    "import warnings\n",
    "warnings.filterwarnings('ignore')\n",
    "import seaborn as sns\n",
    "import statsmodels.formula.api as smf\n",
    "\n",
    "\n",
    "\n",
    "#Multi Linear\n",
    "\n",
    "from statsmodels.graphics.regressionplots import influence_plot\n",
    "#model_influence = model.get_influence()\n",
    "#(c, _) = model_influence.cooks_distance\n",
    "\n",
    "\n",
    "\n",
    "#Logistic Regression\n",
    "\n",
    "from sklearn.linear_model import LogisticRegression\n",
    "from sklearn.model_selection import train_test_split\n",
    "from sklearn import metrics\n",
    "from sklearn import preprocessing\n",
    "from sklearn.metrics import classification_report  \n",
    "from sklearn.metrics import confusion_matrix\n",
    "from sklearn.metrics import roc_auc_score\n",
    "from sklearn.metrics import roc_curve\n",
    "import statsmodels.api as sm  \n",
    "from sklearn.metrics import accuracy_score\n",
    "from numpy import argmax"
   ]
  },
  {
   "cell_type": "markdown",
   "id": "278c5ae6",
   "metadata": {},
   "source": [
    "# Clustering"
   ]
  },
  {
   "cell_type": "code",
   "execution_count": null,
   "id": "ef556bd3",
   "metadata": {
    "ExecuteTime": {
     "end_time": "2023-06-18T12:14:15.695138Z",
     "start_time": "2023-06-18T12:14:15.695138Z"
    }
   },
   "outputs": [],
   "source": [
    "import pandas as pd \n",
    "import numpy as np \n",
    "from sklearn.preprocessing import minmax_scale\n",
    "from sklearn.preprocessing import StandardScaler\n",
    "from sklearn.cluster import AgglomerativeClustering\n",
    "from scipy.cluster.hierarchy import linkage\n",
    "import scipy.cluster.hierarchy as sch\n",
    "from sklearn.cluster import DBSCAN\n",
    "from sklearn.preprocessing import normalize\n",
    "import matplotlib.pyplot as plt\n",
    "import warnings\n",
    "warnings.filterwarnings('ignore')\n",
    "from sklearn.cluster import KMeans\n",
    "from sklearn.neighbors import NearestNeighbors "
   ]
  },
  {
   "cell_type": "markdown",
   "id": "38912cfc",
   "metadata": {},
   "source": [
    "# PCA"
   ]
  },
  {
   "cell_type": "code",
   "execution_count": null,
   "id": "a84150c5",
   "metadata": {
    "ExecuteTime": {
     "end_time": "2023-06-18T12:14:15.699140Z",
     "start_time": "2023-06-18T12:14:15.699140Z"
    }
   },
   "outputs": [],
   "source": [
    "from sklearn.preprocessing import scale\n",
    "from sklearn.decomposition import PCA "
   ]
  },
  {
   "cell_type": "markdown",
   "id": "a6c38841",
   "metadata": {},
   "source": [
    "# Association Rules"
   ]
  },
  {
   "cell_type": "code",
   "execution_count": null,
   "id": "b6176fd6",
   "metadata": {
    "ExecuteTime": {
     "end_time": "2023-06-18T12:14:15.699458Z",
     "start_time": "2023-06-18T12:14:15.699458Z"
    }
   },
   "outputs": [],
   "source": [
    "!pip install mlxtend\n",
    "import pandas as pd \n",
    "from mlxtend.frequent_patterns import apriori,association_rules\n",
    "from mlxtend.preprocessing import TransactionEncoder"
   ]
  },
  {
   "cell_type": "markdown",
   "id": "315359a3",
   "metadata": {},
   "source": [
    "# Recommendation System"
   ]
  },
  {
   "cell_type": "code",
   "execution_count": null,
   "id": "bc2e8e52",
   "metadata": {
    "ExecuteTime": {
     "end_time": "2023-06-18T12:14:15.699458Z",
     "start_time": "2023-06-18T12:14:15.699458Z"
    }
   },
   "outputs": [],
   "source": [
    "from sklearn.metrics import pairwise_distances\n",
    "from scipy.spatial.distance import cosine,correlation"
   ]
  },
  {
   "cell_type": "markdown",
   "id": "138212ba",
   "metadata": {},
   "source": [
    "# Text Mining"
   ]
  },
  {
   "cell_type": "code",
   "execution_count": null,
   "id": "74e696d1",
   "metadata": {
    "ExecuteTime": {
     "end_time": "2023-06-18T12:14:15.699458Z",
     "start_time": "2023-06-18T12:14:15.699458Z"
    }
   },
   "outputs": [],
   "source": [
    "!pip install spacy\n",
    "import spacy\n",
    "import matplotlib.pyplot as imread \n",
    "%matplotlib inline\n",
    "!pip install wordcloud \n",
    "!python -m spacy download en_core_web_sm \n",
    "import re\n",
    "from nltk.tokenize import word_tokenize\n",
    "import nltk\n",
    "nltk.download('punkt')\n",
    "from nltk.corpus import stopwords\n",
    "nltk.download('stopwords')\n",
    "from nltk.corpus import stopwords\n",
    "#my_stop_words=stopwords.words('english')\n",
    "from nltk.stem import PorterStemmer\n",
    "from sklearn.feature_extraction.text import CountVectorizer\n",
    "from sklearn.feature_extraction.text import TfidfVectorizer\n",
    "from nltk import tokenize\n",
    "!pip install afinn\n",
    "from afinn import Afinn"
   ]
  },
  {
   "cell_type": "markdown",
   "id": "b3d119d5",
   "metadata": {},
   "source": [
    "# Naive Bayes"
   ]
  },
  {
   "cell_type": "code",
   "execution_count": null,
   "id": "e9a6065c",
   "metadata": {
    "ExecuteTime": {
     "end_time": "2023-06-18T12:14:15.710813Z",
     "start_time": "2023-06-18T12:14:15.710813Z"
    }
   },
   "outputs": [],
   "source": [
    "!pip install joblib\n",
    "import pandas as pd\n",
    "import numpy as np\n",
    "from sklearn.feature_extraction.text import CountVectorizer\n",
    "from sklearn.model_selection import train_test_split\n",
    "from sklearn.naive_bayes import MultinomialNB\n",
    "from sklearn.metrics import classification_report\n",
    "from sklearn import preprocessing "
   ]
  },
  {
   "cell_type": "markdown",
   "id": "6427746c",
   "metadata": {},
   "source": [
    "# KNN"
   ]
  },
  {
   "cell_type": "code",
   "execution_count": null,
   "id": "46a798f6",
   "metadata": {
    "ExecuteTime": {
     "end_time": "2023-06-18T12:14:15.713811Z",
     "start_time": "2023-06-18T12:14:15.713811Z"
    }
   },
   "outputs": [],
   "source": [
    "from sklearn.model_selection import KFold\n",
    "from sklearn.model_selection import cross_val_score\n",
    "from sklearn.neighbors import KNeighborsClassifier\n",
    "import numpy\n",
    "from pandas import read_csv\n",
    "from sklearn.neighbors import KNeighborsClassifier\n",
    "from sklearn.model_selection import GridSearchCV"
   ]
  },
  {
   "cell_type": "markdown",
   "id": "cc510345",
   "metadata": {},
   "source": [
    "# Decision Trees"
   ]
  },
  {
   "cell_type": "code",
   "execution_count": null,
   "id": "e555f837",
   "metadata": {
    "ExecuteTime": {
     "end_time": "2023-06-18T12:14:15.715812Z",
     "start_time": "2023-06-18T12:14:15.715812Z"
    }
   },
   "outputs": [],
   "source": [
    "from sklearn.tree import DecisionTreeClassifier\n",
    "from sklearn import tree\n",
    "from sklearn.model_selection import train_test_split\n",
    "from sklearn.metrics import classification_report\n",
    "from sklearn import preprocessing\n",
    "from sklearn.tree import DecisionTreeRegressor "
   ]
  },
  {
   "cell_type": "markdown",
   "id": "b26e0ccd",
   "metadata": {},
   "source": [
    "# Random Forest"
   ]
  },
  {
   "cell_type": "code",
   "execution_count": null,
   "id": "deb42a41",
   "metadata": {
    "ExecuteTime": {
     "end_time": "2023-06-18T12:14:15.718813Z",
     "start_time": "2023-06-18T12:14:15.717811Z"
    }
   },
   "outputs": [],
   "source": [
    "from sklearn.ensemble import RandomForestClassifier\n",
    "from sklearn.model_selection import KFold\n",
    "from sklearn.model_selection import cross_val_score\n",
    "from sklearn.ensemble import BaggingClassifier\n",
    "from sklearn.tree import DecisionTreeClassifier\n",
    "from sklearn.ensemble import RandomForestClassifier\n",
    "from sklearn.ensemble import AdaBoostClassifier\n",
    "from sklearn.svm import SVC\n",
    "from sklearn.ensemble import VotingClassifier"
   ]
  },
  {
   "cell_type": "markdown",
   "id": "759dac61",
   "metadata": {},
   "source": [
    "# Neural Networks"
   ]
  },
  {
   "cell_type": "code",
   "execution_count": null,
   "id": "96362861",
   "metadata": {
    "ExecuteTime": {
     "end_time": "2023-06-18T12:14:15.721812Z",
     "start_time": "2023-06-18T12:14:15.721812Z"
    }
   },
   "outputs": [],
   "source": [
    "!pip install keras\n",
    "!pip install tensorflow\n",
    "import keras\n",
    "from sklearn.model_selection import GridSearchCV, KFold\n",
    "from keras.models import Sequential\n",
    "from keras.layers import Dense\n",
    "from keras.wrappers.scikit_learn import KerasClassifier\n",
    "from tensorflow.keras.optimizers import Adam\n",
    "from keras.layers import Dropout\n",
    "from sklearn.metrics import classification_report, accuracy_score"
   ]
  },
  {
   "cell_type": "markdown",
   "id": "db6dfa9f",
   "metadata": {},
   "source": [
    "# Support Vector Machines"
   ]
  },
  {
   "cell_type": "code",
   "execution_count": null,
   "id": "d156da8b",
   "metadata": {
    "ExecuteTime": {
     "end_time": "2023-06-18T12:14:15.723812Z",
     "start_time": "2023-06-18T12:14:15.723812Z"
    }
   },
   "outputs": [],
   "source": [
    "from sklearn import svm\n",
    "from sklearn.svm import SVC\n",
    "from sklearn.model_selection import GridSearchCV\n",
    "from sklearn.metrics import classification_report\n",
    "from sklearn.metrics import accuracy_score, confusion_matrix\n",
    "from sklearn.model_selection import train_test_split, cross_val_score"
   ]
  },
  {
   "cell_type": "markdown",
   "id": "b085c1a9",
   "metadata": {},
   "source": [
    "# Forecasting"
   ]
  },
  {
   "cell_type": "code",
   "execution_count": null,
   "id": "fdaf1e4c",
   "metadata": {
    "ExecuteTime": {
     "end_time": "2023-06-18T12:14:15.727819Z",
     "start_time": "2023-06-18T12:14:15.727819Z"
    }
   },
   "outputs": [],
   "source": [
    "from pandas.plotting import lag_plot\n",
    "import statsmodels.graphics.tsaplots as tsa_plots\n",
    "from statsmodels.tsa.holtwinters import SimpleExpSmoothing # SES\n",
    "from statsmodels.tsa.holtwinters import Holt # Holts Exponential Smoothing\n",
    "from statsmodels.tsa.holtwinters import ExponentialSmoothing  \n",
    "from statsmodels.tsa.seasonal import seasonal_decompose\n",
    "from pandas import read_csv\n",
    "from statsmodels.tsa.arima.model import ARIMA\n",
    "from math import sqrt \n",
    "!pip install pmdarima\n",
    "from pmdarima import auto_arima\n",
    "from sklearn.metrics import mean_squared_error\n",
    "from statsmodels.tools.eval_measures import rmse"
   ]
  },
  {
   "cell_type": "markdown",
   "id": "b9263567",
   "metadata": {},
   "source": [
    "# Visualization"
   ]
  },
  {
   "cell_type": "code",
   "execution_count": null,
   "id": "6580812e",
   "metadata": {
    "ExecuteTime": {
     "end_time": "2023-06-18T12:14:15.730814Z",
     "start_time": "2023-06-18T12:14:15.730814Z"
    }
   },
   "outputs": [],
   "source": [
    "import matplotlib.pyplot as plt\n",
    "import seaborn as sns "
   ]
  }
 ],
 "metadata": {
  "kernelspec": {
   "display_name": "Python 3 (ipykernel)",
   "language": "python",
   "name": "python3"
  },
  "language_info": {
   "codemirror_mode": {
    "name": "ipython",
    "version": 3
   },
   "file_extension": ".py",
   "mimetype": "text/x-python",
   "name": "python",
   "nbconvert_exporter": "python",
   "pygments_lexer": "ipython3",
   "version": "3.9.13"
  }
 },
 "nbformat": 4,
 "nbformat_minor": 5
}
